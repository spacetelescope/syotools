{
 "cells": [
  {
   "cell_type": "markdown",
   "metadata": {},
   "source": [
    "# The Planet Zoo\n",
    "**Authors:** Originally written by **Ty Robinson** and **Giada Arney**. Python implementation and iPython Notebook interface by **Jacob Lustig-Yaeger**.  \n",
    "\n",
    "**Overview:** The purpose of this iPython Notebook is to generate model albedo spectra of Solar System planets as if they were observed as exoplanets using an *ATLAST* class space telescope. The default telescope parameters are for the *ATLAST* mission, but can be adjusted as specified by the user.  \n",
    "\n",
    "**Usage:** Edit the values of the parameters in the user input section. You can select whether or not to save the \"observed\" albedo spectrum data and the plot. When ready, go to the top of the notebook to `Cell` menu and select `Run All`. "
   ]
  },
  {
   "cell_type": "code",
   "execution_count": 1667,
   "metadata": {
    "collapsed": true
   },
   "outputs": [],
   "source": [
    "# Import relevant modules \n",
    "%matplotlib inline\n",
    "import numpy as np\n",
    "import matplotlib as mpl\n",
    "import matplotlib.pyplot as plt\n",
    "from matplotlib import gridspec\n",
    "from matplotlib import rc\n",
    "from astroML.plotting import setup_text_plots\n",
    "setup_text_plots(fontsize=30, usetex=True)\n",
    "rc('font', **{'family': 'serif', 'serif': ['Computer Modern']})\n",
    "mpl.rcParams['font.size'] = 20.0\n",
    "\n",
    "from call_atlast_noise import call_atlast_noise"
   ]
  },
  {
   "cell_type": "markdown",
   "metadata": {},
   "source": [
    "# -------------- Begin User Input --------------"
   ]
  },
  {
   "cell_type": "markdown",
   "metadata": {},
   "source": [
    "### Save noisy spectrum as text file and plot as pdf?"
   ]
  },
  {
   "cell_type": "code",
   "execution_count": 1668,
   "metadata": {
    "collapsed": true
   },
   "outputs": [],
   "source": [
    "save = False\n",
    "save_tag = 'SS_analog'\n",
    "save_directory = 'output/' "
   ]
  },
  {
   "cell_type": "markdown",
   "metadata": {},
   "source": [
    "## Planets -  \n",
    "    Earth: 'earth'\n",
    "    Venus: 'venus'\n",
    "    Archean Earth: 'archean'\n",
    "    Mars: 'mars'\n",
    "    Early Mars: 'earlymars'\n",
    "    Hazy Archean: 'hazyarchean'\n",
    "    Early Venus: 'earlyvenus'\n",
    "    Jupiter: 'jupiter'\n",
    "    Saturn: 'saturn'\n",
    "    Uranus: 'uranus'\n",
    "    Warm Uranus: 'warmuranus'\n",
    "    Neptune: 'neptune'\n",
    "    Warm Neptune: 'warmneptune'"
   ]
  },
  {
   "cell_type": "code",
   "execution_count": 1669,
   "metadata": {
    "collapsed": true
   },
   "outputs": [],
   "source": [
    "planet = 'venus'\n",
    "distance = 10.        # (pc)"
   ]
  },
  {
   "cell_type": "markdown",
   "metadata": {},
   "source": [
    "## Specify integration time or desired SNR  \n",
    "Set the one you are not using to **False**."
   ]
  },
  {
   "cell_type": "code",
   "execution_count": 1670,
   "metadata": {
    "collapsed": true
   },
   "outputs": [],
   "source": [
    "integration_time = 2.5 # (hours)\n",
    "SNR = False"
   ]
  },
  {
   "cell_type": "markdown",
   "metadata": {},
   "source": [
    "## Star - \n",
    "    Sun (5780 K): 'sun'\n",
    "    F2V (7050 K, 1.3 Solar Radii): 'f2v'"
   ]
  },
  {
   "cell_type": "code",
   "execution_count": 1671,
   "metadata": {
    "collapsed": true
   },
   "outputs": [],
   "source": [
    "star = 'sun'"
   ]
  },
  {
   "cell_type": "markdown",
   "metadata": {},
   "source": [
    "## Telescope Parameters - "
   ]
  },
  {
   "cell_type": "code",
   "execution_count": 1672,
   "metadata": {
    "collapsed": true
   },
   "outputs": [],
   "source": [
    "lambda_min = 0.3   # Minimum wavelength (um)        0.3\n",
    "lambda_max = 2.0   # Maximum wavelength (um)        2.0\n",
    "resolution = 70.   # lambda / delta-lambda          70.\n",
    "temperature = 274. # Telescope temperature (K)       274.\n",
    "diameter = 8.0     # Telescope diameter (m)       8.0\n",
    "emissivity = 0.9   # Telescope emissivity           0.9\n",
    "IWA = 0.5          # Inner Working Angle (lambda/D) 0.5\n",
    "OWA = 30000.0      # Outer Working Angle (lambda/D) 30000.0\n",
    "throughput = 0.2   # Telescope throughput           0.2\n",
    "contrast = 1.e-10  # Raw Contrast                   1.0e-10"
   ]
  },
  {
   "cell_type": "markdown",
   "metadata": {},
   "source": [
    "## Observational Parameters - "
   ]
  },
  {
   "cell_type": "code",
   "execution_count": 1673,
   "metadata": {
    "collapsed": true
   },
   "outputs": [],
   "source": [
    "phase = 90.0       # Phase angle\n",
    "phi = 1. / np.pi   # Phase function\n",
    "exozodis = 1.0     # Number of exozodi"
   ]
  },
  {
   "cell_type": "markdown",
   "metadata": {},
   "source": [
    "# -------------- End User Input --------------"
   ]
  },
  {
   "cell_type": "markdown",
   "metadata": {},
   "source": [
    "# Run Noise Model"
   ]
  },
  {
   "cell_type": "code",
   "execution_count": 1674,
   "metadata": {
    "collapsed": false
   },
   "outputs": [],
   "source": [
    "lam, dlam, A, q, Cratio, cp, csp, cz, cez, cD, cR, cth, DtSNR = \\\n",
    "call_atlast_noise(planet=planet, startype=star,lammin=lambda_min,\\\n",
    "                  lammax=lambda_max, Res=resolution, Tput=throughput,\\\n",
    "                  diam=diameter, Tsys=temperature,IWA=IWA, OWA=OWA, \\\n",
    "                  d=distance, Nez=exozodis, emis=emissivity, C=contrast,\\\n",
    "                  alpha=phase, Phi=phi)"
   ]
  },
  {
   "cell_type": "code",
   "execution_count": 1675,
   "metadata": {
    "collapsed": false
   },
   "outputs": [],
   "source": [
    "def find_nearest(array,value):\n",
    "    idx = (np.abs(array-value)).argmin()\n",
    "    return idx\n",
    "\n",
    "# This function calculates the SNR of the observation given an integration time\n",
    "def calc_SNR(itime, cp, cb, poisson=2.):\n",
    "    cnoise = cp + poisson*cb\n",
    "    SNR = cp*itime / np.sqrt(cnoise*itime)\n",
    "    return SNR\n",
    "\n",
    "# This function creates a mock observation\n",
    "def observe_system(spectrum, SNR = SNR, apparent=False):\n",
    "    if apparent:\n",
    "        # Scale geometric albedo to apparent albedo (as if lambertian sphere)\n",
    "        scale = 3.*np.pi/2.\n",
    "    else:\n",
    "        scale = 1.0    \n",
    "    sigma = scale * spectrum / SNR\n",
    "    spec_noise = np.random.randn(len(spectrum))*sigma + scale*spectrum\n",
    "    return spec_noise, sigma\n",
    "\n",
    "def calc_integration_time(DtSNR, lam, ref_lam):    \n",
    "    t5 =  find_nearest(lam, ref_lam)\n",
    "    time = DtSNR[pt5]   \n",
    "    return time # hours"
   ]
  },
  {
   "cell_type": "code",
   "execution_count": 1676,
   "metadata": {
    "collapsed": false
   },
   "outputs": [],
   "source": [
    "# Calculate background noise\n",
    "cb = (cz + cez + csp + cD + cR + cth)\n",
    "ref_lam = 1.0\n",
    "\n",
    "if integration_time and ~SNR:\n",
    "    \n",
    "    # Calculate SNR from integration time\n",
    "    SNR = calc_SNR(integration_time*3600., cp, cb)\n",
    "    \n",
    "    # Observe system\n",
    "    spec, sig = observe_system(A, SNR = SNR)\n",
    "        \n",
    "    # Set string for plot text\n",
    "    string = r'Distance = '+\"{:.1f}\".format(distance)+' pc'+\\\n",
    "    '\\n Integration time = '+\"{:.0f}\".format(integration_time)+' hours'+\\\n",
    "    '\\n SNR = '+\"{:.1f}\".format(SNR[find_nearest(lam,ref_lam)])+\\\n",
    "    ' at '+\"{:.1f}\".format(ref_lam)+r' $\\mu$m'\n",
    "    \n",
    "elif SNR and ~integration_time:\n",
    "    \n",
    "    # Calculate integration time from differential SNR\n",
    "    integration_time = calc_integration_time(DtSNR, lam, ref_lam)\n",
    "    \n",
    "    # Observe system\n",
    "    spec, sig = observe_system(A, SNR = SNR)\n",
    "    \n",
    "    # Set string for plot text\n",
    "    string = r'Distance = '+\"{:.1f}\".format(distance)+' pc'+\\\n",
    "    '\\n Integration time = '+\"{:.0f}\".format(integration_time)+' hours'+\\\n",
    "    '\\n SNR = '+\"{:.1f}\".format(SNR)\n",
    "\n",
    "else:\n",
    "    \n",
    "    print(\"Must set EITHER integration time OR SNR, not both.\")\n",
    "\n",
    "scale = 1.#3.*np.pi/2. # converts to apparent albedo"
   ]
  },
  {
   "cell_type": "code",
   "execution_count": 1677,
   "metadata": {
    "collapsed": true
   },
   "outputs": [],
   "source": [
    "file_tag = save_directory+save_tag+'_albedo_'+planet+'_'+\"{:.0f}\".format(integration_time)+'hrs_'+\"{:.0f}\".format(distance)+'pc'"
   ]
  },
  {
   "cell_type": "code",
   "execution_count": 1683,
   "metadata": {
    "collapsed": false,
    "scrolled": false
   },
   "outputs": [
    {
     "data": {
      "image/png": "[encoded data removed]",
      "text/plain": [
       "<matplotlib.figure.Figure at 0x7ff8d5ce3d10>"
      ]
     },
     "metadata": {},
     "output_type": "display_data"
    }
   ],
   "source": [
    "fig = plt.figure(figsize=(15,10))\n",
    "gs = gridspec.GridSpec(1, 1) \n",
    "ax0 = plt.subplot(gs[0])\n",
    "ax0.plot(lam, A*scale, alpha=0.7, color='orange', drawstyle='steps-mid')\n",
    "ax0.errorbar(lam, spec, yerr=sig, fmt='o', color='k')\n",
    "ax0.set_ylabel('Geometric Albedo')\n",
    "ax0.set_xlabel('Wavelength [$\\mu$m]')\n",
    "ax0.set_title(planet.title())\n",
    "ax0.set_xlim([lambda_min,1.9])\n",
    "ax0.set_ylim([-0.01,.91])\n",
    "ax0.text(0.01, 0.99, string,\\\n",
    "         verticalalignment='top', horizontalalignment='left',\\\n",
    "         transform=ax0.transAxes,\\\n",
    "         color='black', fontsize=20)\n",
    "\n",
    "if save:\n",
    "    fig.savefig(file_tag+'.pdf')\n",
    "    print 'Saved: '+file_tag+'.pdf'"
   ]
  },
  {
   "cell_type": "code",
   "execution_count": 1679,
   "metadata": {
    "collapsed": false
   },
   "outputs": [],
   "source": [
    "# Save file\n",
    "if save:\n",
    "    y_sav = np.array([lam,spec,sig])\n",
    "    np.savetxt(file_tag+'.txt', y_sav.T)\n",
    "    print 'Saved: '+file_tag+'.txt'"
   ]
  },
  {
   "cell_type": "code",
   "execution_count": 1680,
   "metadata": {
    "collapsed": false
   },
   "outputs": [
    {
     "name": "stdout",
     "output_type": "stream",
     "text": [
      "1.88455525763\n"
     ]
    }
   ],
   "source": [
    "def find_nearest(array,value):\n",
    "    idx = (np.abs(array-value)).argmin()\n",
    "    return idx\n",
    "\n",
    "pt5 =  find_nearest(lam, 0.55)\n",
    "time = DtSNR[pt5]\n",
    "print time"
   ]
  },
  {
   "cell_type": "code",
   "execution_count": null,
   "metadata": {
    "collapsed": true
   },
   "outputs": [],
   "source": []
  }
 ],
 "metadata": {
  "kernelspec": {
   "display_name": "Python 2",
   "language": "python",
   "name": "python2"
  },
  "language_info": {
   "codemirror_mode": {
    "name": "ipython",
    "version": 2
   },
   "file_extension": ".py",
   "mimetype": "text/x-python",
   "name": "python",
   "nbconvert_exporter": "python",
   "pygments_lexer": "ipython2",
   "version": "2.7.11"
  }
 },
 "nbformat": 4,
 "nbformat_minor": 0
}
